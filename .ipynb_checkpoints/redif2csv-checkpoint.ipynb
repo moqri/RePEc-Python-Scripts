{
 "cells": [
  {
   "cell_type": "code",
   "execution_count": 1,
   "metadata": {
    "collapsed": true
   },
   "outputs": [],
   "source": [
    "import json\n",
    "import os\n",
    "import pandas as pd"
   ]
  },
  {
   "cell_type": "code",
   "execution_count": 2,
   "metadata": {
    "collapsed": true
   },
   "outputs": [],
   "source": [
    "def redif2csv(redif_file):\n",
    "    ''' A function that gets a ReDIF input and converts it to a CSV'''\n",
    "    articles=[]\n",
    "    article={}\n",
    "    creators=[]\n",
    "    creator={}\n",
    "    for i in content:\n",
    "        pair=i.split(':')\n",
    "        j=i.replace(pair[0]+':','').strip()\n",
    "        if pair[0].lower()=='template-type':\n",
    "            if len(article)>0:\n",
    "                article['ex:creator']=creators\n",
    "                creators=[]\n",
    "                articles.append(article)\n",
    "            article={};\n",
    "            article['ex:creator']=[]; article['ex:keywords']=[]; \n",
    "            article['@context']={}\n",
    "            article['ex:template']=i\n",
    "        elif pair[0].lower()=='author-name':\n",
    "            if len(creator)>0:\n",
    "                creators.append(creator)\n",
    "            creator={}\n",
    "            creator['ex:name']=j\n",
    "        elif pair[0]=='Author-Email':\n",
    "            creator['ex:email']=j\n",
    "        elif pair[0]=='Author-Workplace-Name':\n",
    "            creator['ex:affiliation']=j\n",
    "        elif pair[0].lower()=='title':article['ex:title']=j\n",
    "        elif pair[0].lower()=='year':article['ex:date']=j\n",
    "        elif pair[0].lower()=='pages':article['ex:pages']=j\n",
    "        elif pair[0].lower()=='volume':article['ex:volume']=j\n",
    "        elif pair[0].lower()=='issue':article['ex:issue']=j\n",
    "        elif pair[0].lower()=='file-url':article['ex:url']=j\n",
    "        elif pair[0].lower()=='abstract':article['ex:abstract']=j\n",
    "        elif pair[0].lower()=='keywords':article['ex:keywords']=[keyword.strip() for keyword in j.split(',')]\n",
    "    jd=json.dumps(articles,ensure_ascii=False)\n",
    "    jd = unicode(jd, 'utf-8',errors='ignore')\n",
    "    jl=json.loads(jd,encoding='utf-8')\n",
    "    df=pd.DataFrame(jl)\n",
    "    csv_file=redif_file.replace('.rdf','.csv')\n",
    "    df.to_csv(csv_file,encoding='utf-8')\n",
    "    return (df)"
   ]
  },
  {
   "cell_type": "code",
   "execution_count": 3,
   "metadata": {
    "collapsed": false
   },
   "outputs": [
    {
     "name": "stdout",
     "output_type": "stream",
     "text": [
      "isre-0101-1704-BOM.rdf\n"
     ]
    }
   ],
   "source": [
    "#Run: put any number of ReDIF files in the current folder \n",
    "#Example: isre-0101-1704-BOM.rdf\n",
    "for file_name in os.listdir('.'):\n",
    "    if file_name[-4:]=='.rdf':\n",
    "        print file_name\n",
    "        with open(file_name) as f:\n",
    "            content = f.readlines()\n",
    "        # you may also want to remove whitespace characters like `\\n` at the end of each line\n",
    "        content = [x.strip() for x in content] \n",
    "        df=jsonld_file=redif2csv(file_name)"
   ]
  },
  {
   "cell_type": "code",
   "execution_count": 4,
   "metadata": {
    "collapsed": false
   },
   "outputs": [
    {
     "data": {
      "text/html": [
       "<div>\n",
       "<table border=\"1\" class=\"dataframe\">\n",
       "  <thead>\n",
       "    <tr style=\"text-align: right;\">\n",
       "      <th></th>\n",
       "      <th>@context</th>\n",
       "      <th>ex:abstract</th>\n",
       "      <th>ex:creator</th>\n",
       "      <th>ex:date</th>\n",
       "      <th>ex:issue</th>\n",
       "      <th>ex:keywords</th>\n",
       "      <th>ex:pages</th>\n",
       "      <th>ex:template</th>\n",
       "      <th>ex:title</th>\n",
       "      <th>ex:url</th>\n",
       "      <th>ex:volume</th>\n",
       "    </tr>\n",
       "  </thead>\n",
       "  <tbody>\n",
       "    <tr>\n",
       "      <th>0</th>\n",
       "      <td>{}</td>\n",
       "      <td>The concept of decision support systems that e...</td>\n",
       "      <td>[{u'ex:name': u'Joyce J. Elam', u'ex:affiliati...</td>\n",
       "      <td>1990</td>\n",
       "      <td>1</td>\n",
       "      <td>[decision support systems, user-computer inter...</td>\n",
       "      <td>1-22</td>\n",
       "      <td>Template-Type: ReDIF-Article 1.0</td>\n",
       "      <td>Can Software Influence Creativity?</td>\n",
       "      <td>http://dx.doi.org/10.1287/isre.1.1.1</td>\n",
       "      <td>1</td>\n",
       "    </tr>\n",
       "    <tr>\n",
       "      <th>1</th>\n",
       "      <td>{}</td>\n",
       "      <td>This paper develops a model of the growth of i...</td>\n",
       "      <td>[{u'ex:name': u'Melissa Mead', u'ex:affiliatio...</td>\n",
       "      <td>1990</td>\n",
       "      <td>1</td>\n",
       "      <td>[information systems expenditures, budget, dif...</td>\n",
       "      <td>23-46</td>\n",
       "      <td>Template-Type: ReDIF-Article 1.0</td>\n",
       "      <td>An Integrative Model of Information Systems Sp...</td>\n",
       "      <td>http://dx.doi.org/10.1287/isre.1.1.23</td>\n",
       "      <td>1</td>\n",
       "    </tr>\n",
       "  </tbody>\n",
       "</table>\n",
       "</div>"
      ],
      "text/plain": [
       "  @context                                        ex:abstract  \\\n",
       "0       {}  The concept of decision support systems that e...   \n",
       "1       {}  This paper develops a model of the growth of i...   \n",
       "\n",
       "                                          ex:creator ex:date ex:issue  \\\n",
       "0  [{u'ex:name': u'Joyce J. Elam', u'ex:affiliati...    1990        1   \n",
       "1  [{u'ex:name': u'Melissa Mead', u'ex:affiliatio...    1990        1   \n",
       "\n",
       "                                         ex:keywords ex:pages  \\\n",
       "0  [decision support systems, user-computer inter...     1-22   \n",
       "1  [information systems expenditures, budget, dif...    23-46   \n",
       "\n",
       "                        ex:template  \\\n",
       "0  Template-Type: ReDIF-Article 1.0   \n",
       "1  Template-Type: ReDIF-Article 1.0   \n",
       "\n",
       "                                            ex:title  \\\n",
       "0                 Can Software Influence Creativity?   \n",
       "1  An Integrative Model of Information Systems Sp...   \n",
       "\n",
       "                                  ex:url ex:volume  \n",
       "0   http://dx.doi.org/10.1287/isre.1.1.1         1  \n",
       "1  http://dx.doi.org/10.1287/isre.1.1.23         1  "
      ]
     },
     "execution_count": 4,
     "metadata": {},
     "output_type": "execute_result"
    }
   ],
   "source": [
    "#check the first rows of your CSV\n",
    "df.head(2)"
   ]
  }
 ],
 "metadata": {
  "anaconda-cloud": {},
  "kernelspec": {
   "display_name": "Python [Root]",
   "language": "python",
   "name": "Python [Root]"
  },
  "language_info": {
   "codemirror_mode": {
    "name": "ipython",
    "version": 2
   },
   "file_extension": ".py",
   "mimetype": "text/x-python",
   "name": "python",
   "nbconvert_exporter": "python",
   "pygments_lexer": "ipython2",
   "version": "2.7.12"
  }
 },
 "nbformat": 4,
 "nbformat_minor": 0
}
